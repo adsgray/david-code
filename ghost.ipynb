{
 "cells": [
  {
   "cell_type": "markdown",
   "metadata": {},
   "source": [
    "# Ghost Game\n",
    "By David"
   ]
  },
  {
   "cell_type": "code",
   "execution_count": null,
   "metadata": {},
   "outputs": [
    {
     "name": "stdout",
     "output_type": "stream",
     "text": [
      "Ghost Game\n",
      "Three doors ahead...\n",
      "A ghost bihind one.\n",
      "which door do you open?\n",
      "1, 2, or 3?4\n",
      "NO GHOST!\n",
      "you enter the next room.\n",
      "Three doors ahead...\n",
      "A ghost bihind one.\n",
      "which door do you open?\n"
     ]
    }
   ],
   "source": [
    "#!/usr/bin/python3\n",
    "\n",
    "from random import randint\n",
    "\n",
    "print ('Ghost Game')\n",
    "feeling_brave = True\n",
    "score = 0\n",
    "while feeling_brave:\n",
    "\tghost_door = randint(1, 3)\n",
    "\tprint('Three doors ahead...')\n",
    "\tprint('A ghost bihind one.')\n",
    "\tprint('which door do you open?')\n",
    "\tdoor = input('1, 2, ,3 or 4?)\n",
    "\tdoor_num = int(door)\n",
    "\tif door_num == ghost_door:\n",
    "\t\tprint('GHOST')\n",
    "\t\tfeeling_brave = False\n",
    "\telse:\n",
    "\t\tprint('NO GHOST!')\n",
    "\t\tprint('you enter the next room.')\n",
    "\t\tscore = score + 1\n",
    "\n",
    "print('Run away!')\n",
    "print('Game over! you scored', score)\n"
   ]
  },
  {
   "cell_type": "code",
   "execution_count": 100,
   "metadata": {},
   "outputs": [
    {
     "name": "stdout",
     "output_type": "stream",
     "text": [
      "david liked my room.\n"
     ]
    }
   ],
   "source": [
    "name = ['david', 'james', 'jen', 'andrew', 'liam', 'michelle']\n",
    "noun = ['my cat', 'my nose', 'my pet lion', ' my hamburger', 'my room']\n",
    "verb = ['liked', 'hated', 'ate', 'painted', 'photographed', 'wanted']\n",
    "\n",
    "def pick(words):\n",
    "    num_words = len(words)\n",
    "    num_picked = randint(0, num_words - 1)\n",
    "    word_picked = words[num_picked] \n",
    "    return word_picked\n",
    "        \n",
    "print(pick (name), pick(verb) ,pick(noun), end='.\\n')        \n",
    "    \n"
   ]
  }
 ],
 "metadata": {
  "kernelspec": {
   "display_name": "Python 3",
   "language": "python",
   "name": "python3"
  },
  "language_info": {
   "codemirror_mode": {
    "name": "ipython",
    "version": 3
   },
   "file_extension": ".py",
   "mimetype": "text/x-python",
   "name": "python",
   "nbconvert_exporter": "python",
   "pygments_lexer": "ipython3",
   "version": "3.7.3"
  }
 },
 "nbformat": 4,
 "nbformat_minor": 2
}
