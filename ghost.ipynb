{
 "cells": [
  {
   "cell_type": "markdown",
   "metadata": {},
   "source": [
    "# Ghost Game\n",
    "By David"
   ]
  },
  {
   "cell_type": "code",
   "execution_count": 213,
   "metadata": {},
   "outputs": [
    {
     "name": "stdout",
     "output_type": "stream",
     "text": [
      "{10, 3}\n"
     ]
    }
   ],
   "source": [
    "import random\n",
    "ghosts = set()\n",
    "max=10\n",
    "score=10\n",
    "\n",
    "def how_many_ghosts(score):\n",
    "    if score < 10:\n",
    "        return 1\n",
    "    elif score < 20:\n",
    "        return 2\n",
    "    elif score < 30:\n",
    "        return 3\n",
    "    else:\n",
    "        return 4\n",
    "    \n",
    "    \n",
    "def ghostrooms():\n",
    "    allrooms = set(range(min,max+1))\n",
    "    rooms = set()\n",
    "    numghosts = how_many_ghosts(score)\n",
    "    # choose numghosts rooms from allrooms and put into 'ghosts' set\n",
    "    for i in range(0,numghosts):\n",
    "        room = random.sample(allrooms, 1)\n",
    "        rooms.update(room)\n",
    "        allrooms.difference_update(room)\n",
    "    return rooms\n",
    "    \n",
    "ghosts = ghostrooms()\n",
    "print(ghosts)"
   ]
  },
  {
   "cell_type": "code",
   "execution_count": 215,
   "metadata": {},
   "outputs": [
    {
     "name": "stdout",
     "output_type": "stream",
     "text": [
      "Ghost Game\n",
      "10 doors ahead...\n",
      "A ghost bihind 1.\n",
      "Score:  0\n",
      "which door do you open?\n",
      "1 up to 10: 1\n",
      "NO GHOST! it was behind doors:  {7}\n",
      "you enter the next room.\n",
      "10 doors ahead...\n",
      "A ghost bihind 1.\n",
      "Score:  1\n",
      "which door do you open?\n",
      "1 up to 10: 3\n",
      "NO GHOST! it was behind doors:  {10}\n",
      "you enter the next room.\n",
      "10 doors ahead...\n",
      "A ghost bihind 1.\n",
      "Score:  2\n",
      "which door do you open?\n",
      "1 up to 10: 10\n",
      "NO GHOST! it was behind doors:  {3}\n",
      "you enter the next room.\n",
      "10 doors ahead...\n",
      "A ghost bihind 1.\n",
      "Score:  3\n",
      "which door do you open?\n",
      "1 up to 10: 6\n",
      "NO GHOST! it was behind doors:  {2}\n",
      "you enter the next room.\n",
      "10 doors ahead...\n",
      "A ghost bihind 1.\n",
      "Score:  4\n",
      "which door do you open?\n",
      "1 up to 10: 2\n",
      "NO GHOST! it was behind doors:  {3}\n",
      "you enter the next room.\n",
      "10 doors ahead...\n",
      "A ghost bihind 1.\n",
      "Score:  5\n",
      "which door do you open?\n",
      "1 up to 10: 2\n",
      "NO GHOST! it was behind doors:  {4}\n",
      "you enter the next room.\n",
      "10 doors ahead...\n",
      "A ghost bihind 1.\n",
      "Score:  6\n",
      "which door do you open?\n",
      "1 up to 10: 9\n",
      "NO GHOST! it was behind doors:  {6}\n",
      "you enter the next room.\n",
      "10 doors ahead...\n",
      "A ghost bihind 1.\n",
      "Score:  7\n",
      "which door do you open?\n",
      "1 up to 10: 5\n",
      "NO GHOST! it was behind doors:  {3}\n",
      "you enter the next room.\n",
      "10 doors ahead...\n",
      "A ghost bihind 1.\n",
      "Score:  8\n",
      "which door do you open?\n",
      "1 up to 10: 10\n",
      "NO GHOST! it was behind doors:  {8}\n",
      "you enter the next room.\n",
      "10 doors ahead...\n",
      "A ghost bihind 1.\n",
      "Score:  9\n",
      "which door do you open?\n",
      "1 up to 10: 4\n",
      "NO GHOST! it was behind doors:  {6}\n",
      "you enter the next room.\n",
      "10 doors ahead...\n",
      "A ghost bihind 2.\n",
      "Score:  10\n",
      "which door do you open?\n",
      "1 up to 10: 8\n",
      "NO GHOST! it was behind doors:  {1, 5}\n",
      "you enter the next room.\n",
      "10 doors ahead...\n",
      "A ghost bihind 2.\n",
      "Score:  11\n",
      "which door do you open?\n",
      "1 up to 10: 6\n",
      "NO GHOST! it was behind doors:  {8, 7}\n",
      "you enter the next room.\n",
      "10 doors ahead...\n",
      "A ghost bihind 2.\n",
      "Score:  12\n",
      "which door do you open?\n",
      "1 up to 10: 6\n",
      "GHOST\n",
      "Run away!\n",
      "Game over! you scored 12\n"
     ]
    }
   ],
   "source": [
    "#!/usr/bin/python3\n",
    "\n",
    "\n",
    "from random import randint,sample\n",
    "\n",
    "print ('Ghost Game')\n",
    "feeling_brave = True\n",
    "score = 0\n",
    "min = 1\n",
    "max = 10\n",
    "\n",
    "while feeling_brave:\n",
    "    ghost_doors = ghostrooms()\n",
    "    print('{} doors ahead...'.format(max))\n",
    "    print('A ghost bihind {}.'.format(how_many_ghosts(score)))\n",
    "    print('Score: ', score)\n",
    "    print('which door do you open?')\n",
    "    door = input('1 up to 10: ')\n",
    "    door_num = int(door)\n",
    "    if door_num < min or door_num > max:\n",
    "        print('you are naughty! GAME OVER!')\n",
    "        break\n",
    "        \n",
    "    if door_num in ghost_doors:\n",
    "        print('GHOST in rooms: ', ghost_doors)\n",
    "        feeling_brave = False\n",
    "    else:\n",
    "        print('NO GHOST! it was behind doors: ', ghost_doors)\n",
    "        print('you enter the next room.')\n",
    "        score = score + 1\n",
    "\n",
    "print('Run away!')\n",
    "print('Game over! you scored', score)\n"
   ]
  },
  {
   "cell_type": "code",
   "execution_count": 175,
   "metadata": {},
   "outputs": [
    {
     "name": "stdout",
     "output_type": "stream",
     "text": [
      "michelle sniffed my pet lion.\n"
     ]
    }
   ],
   "source": [
    "name = ['david', 'james', 'jen', 'andrew', 'liam', 'michelle', 'noah', 'reilly', 'keiran', 'thomas', 'grady']\n",
    "noun = ['my cat', 'my nose', 'my pet lion', ' my hamburger', 'my room', 'my rubiks cubes', 'my dog', 'my parrot']\n",
    "verb = ['liked', 'hated', 'ate', 'painted', 'photographed',\n",
    "        'wanted', 'loved', 'loves', 'climbed', 'squeezed', 'cloned', 'sniffed']\n",
    "\n",
    "def pick(words):\n",
    "    num_words = len(words)\n",
    "    num_picked = randint(0, num_words - 1)\n",
    "    word_picked = words[num_picked] \n",
    "    return word_picked\n",
    "        \n",
    "print(pick (name), pick(verb) ,pick(noun), end='.\\n')        \n",
    "    \n"
   ]
  },
  {
   "cell_type": "code",
   "execution_count": 116,
   "metadata": {},
   "outputs": [
    {
     "name": "stdout",
     "output_type": "stream",
     "text": [
      "decef\n"
     ]
    }
   ],
   "source": [
    "start = ['sa', 'de', 'ja', 'ga'] \n",
    "midle = ['c', 'y', 'r']\n",
    "end = ['ad', 'ef', 'mes', 'y', '', 'an', 'ep']\n",
    "\n",
    "def coinflip(chance):\n",
    "    return randint(0, 100) < chance\n",
    "\n",
    "def maybepick(words):\n",
    "    if coinflip(50):\n",
    "        return pick(words)\n",
    "    else:\n",
    "        return \"\"\n",
    "    \n",
    "def pick(words):\n",
    "    num_words = len(words)\n",
    "    num_picked = randint(0, num_words - 1)\n",
    "    word_picked = words[num_picked]\n",
    "    return word_picked\n",
    "\n",
    "print(pick (start) + maybepick(midle) + pick(end), end='\\n')\n",
    "    "
   ]
  },
  {
   "cell_type": "code",
   "execution_count": 172,
   "metadata": {},
   "outputs": [
    {
     "name": "stdout",
     "output_type": "stream",
     "text": [
      "saef\n"
     ]
    }
   ],
   "source": [
    "start = ['sa', 'da', 'j', 'g'] \n",
    "midle = ['u', 'h', 'r']\n",
    "end = ['ad', 'ef', 'me', 'h', 'a', 'an', 'mp', 'ck']\n",
    "\n",
    "def coinflip(chance):\n",
    "    return randint(0, 100) < chance\n",
    "\n",
    "def maybepick(words):\n",
    "    if coinflip(50):\n",
    "        return pick(words)\n",
    "    else:\n",
    "        return \"\"\n",
    "    \n",
    "def pick(words):\n",
    "    num_words = len(words)\n",
    "    num_picked = randint(0, num_words - 1)\n",
    "    word_picked = words[num_picked]\n",
    "    return word_picked\n",
    "\n",
    "print(pick (start) + maybepick(midle) + pick(end), end='\\n')\n",
    "    "
   ]
  }
 ],
 "metadata": {
  "kernelspec": {
   "display_name": "Python 3",
   "language": "python",
   "name": "python3"
  },
  "language_info": {
   "codemirror_mode": {
    "name": "ipython",
    "version": 3
   },
   "file_extension": ".py",
   "mimetype": "text/x-python",
   "name": "python",
   "nbconvert_exporter": "python",
   "pygments_lexer": "ipython3",
   "version": "3.7.3"
  }
 },
 "nbformat": 4,
 "nbformat_minor": 2
}
