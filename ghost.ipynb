{
 "cells": [
  {
   "cell_type": "markdown",
   "metadata": {},
   "source": [
    "# Ghost Game\n",
    "By David"
   ]
  },
  {
   "cell_type": "code",
   "execution_count": null,
   "metadata": {},
   "outputs": [
    {
     "name": "stdout",
     "output_type": "stream",
     "text": [
      "Ghost Game\n",
      "Three doors ahead...\n",
      "A ghost bihind one.\n",
      "Score:  0\n",
      "which door do you open?\n"
     ]
    }
   ],
   "source": [
    "#!/usr/bin/python3\n",
    "\n",
    "from random import randint\n",
    "\n",
    "print ('Ghost Game')\n",
    "feeling_brave = True\n",
    "score = 0\n",
    "min = 1\n",
    "max = 10\n",
    "\n",
    "while feeling_brave:\n",
    "    ghost_door = randint(min, max)\n",
    "    print('Three doors ahead...')\n",
    "    print('A ghost bihind one.')\n",
    "    print('Score: ', score)\n",
    "    print('which door do you open?')\n",
    "    door = input('1 up to 10: ')\n",
    "    door_num = int(door)\n",
    "    if door_num < min or door_num > max:\n",
    "        print('you are naughty! GAME OVER!')\n",
    "        break\n",
    "        \n",
    "    if door_num == ghost_door:\n",
    "        print('GHOST')\n",
    "        feeling_brave = False\n",
    "    else:\n",
    "        print('NO GHOST! it was behind door', ghost_door)\n",
    "        print('you enter the next room.')\n",
    "        score = score + 1\n",
    "\n",
    "print('Run away!')\n",
    "print('Game over! you scored', score)\n"
   ]
  },
  {
   "cell_type": "code",
   "execution_count": 404,
   "metadata": {},
   "outputs": [
    {
     "name": "stdout",
     "output_type": "stream",
     "text": [
      "grady loved my room.\n"
     ]
    }
   ],
   "source": [
    "name = ['david', 'james', 'jen', 'andrew', 'liam', 'michelle', 'noah', 'reilly', 'keiran', 'thomas', 'grady']\n",
    "noun = ['my cat', 'my nose', 'my pet lion', ' my hamburger', 'my room', 'my rubiks cubes', 'my dog', 'my parrot']\n",
    "verb = ['liked', 'hated', 'ate', 'painted', 'photographed',\n",
    "        'wanted', 'loved', 'loves', 'climbed', 'squeezed', 'cloned']\n",
    "\n",
    "def pick(words):\n",
    "    num_words = len(words)\n",
    "    num_picked = randint(0, num_words - 1)\n",
    "    word_picked = words[num_picked] \n",
    "    return word_picked\n",
    "        \n",
    "print(pick (name), pick(verb) ,pick(noun), end='.\\n')        \n",
    "    \n"
   ]
  },
  {
   "cell_type": "code",
   "execution_count": 403,
   "metadata": {},
   "outputs": [
    {
     "name": "stdout",
     "output_type": "stream",
     "text": [
      "sumes\n"
     ]
    }
   ],
   "source": [
    "start = ['su', 'da', 'yu', 'ja', 'fe']\n",
    "midle = ['er', 'ot', 'ya']\n",
    "end = ['id', 'ef', 'mes', 'ie', 'n', 'un', 'ep']\n",
    "\n",
    "def coinflip(chance):\n",
    "    return randint(0, 100) < chance\n",
    "\n",
    "def maybepick(words):\n",
    "    if coinflip(50):\n",
    "        return pick(words)\n",
    "    else:\n",
    "        return \"\"\n",
    "    \n",
    "def pick(words):\n",
    "    num_words = len(words)\n",
    "    num_picked = randint(0, num_words - 1)\n",
    "    word_picked = words[num_picked]\n",
    "    return word_picked\n",
    "\n",
    "print(pick (start) + maybepick(midle) + pick(end), end='\\n')\n",
    "    "
   ]
  }
 ],
 "metadata": {
  "kernelspec": {
   "display_name": "Python 3",
   "language": "python",
   "name": "python3"
  }
 },
 "nbformat": 4,
 "nbformat_minor": 2
}
